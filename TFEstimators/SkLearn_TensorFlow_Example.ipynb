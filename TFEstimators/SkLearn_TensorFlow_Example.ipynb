{
 "cells": [
  {
   "cell_type": "code",
   "execution_count": 1,
   "metadata": {
    "collapsed": false
   },
   "outputs": [],
   "source": [
    "from __future__ import absolute_import\n",
    "from __future__ import division\n",
    "from __future__ import print_function\n",
    "\n",
    "# Import data loading and classification libraries\n",
    "from sklearn import svm\n",
    "from sklearn import metrics\n",
    "from sklearn import datasets\n",
    "from sklearn import model_selection\n",
    "\n",
    "import tensorflow as tf\n",
    "# Suppress verbose output from TensorFlow\n",
    "import os\n",
    "os.environ['TF_CPP_MIN_LOG_LEVEL'] = '3'"
   ]
  },
  {
   "cell_type": "code",
   "execution_count": 2,
   "metadata": {
    "collapsed": true
   },
   "outputs": [],
   "source": [
    "# Load Iris data\n",
    "iris = datasets.load_iris()\n",
    "# Load features and classes\n",
    "x_train, x_test, y_train, y_test = model_selection.train_test_split(iris.data, \n",
    "                                                                    iris.target, \n",
    "                                                                    test_size=0.6, \n",
    "                                                                    random_state=42)"
   ]
  },
  {
   "cell_type": "code",
   "execution_count": 3,
   "metadata": {
    "collapsed": false
   },
   "outputs": [],
   "source": [
    "# ------------------------------------------\n",
    "# Scikit Learn Implementation\n",
    "# ------------------------------------------\n",
    "# Use support vector classification\n",
    "classifier_sk = svm.SVC()\n",
    "# Use the train data to train this classifier\n",
    "classifier_sk.fit(x_train, y_train)\n",
    "# Use the trained model to predict on the test data\n",
    "predictions = classifier_sk.predict(x_test)\n",
    "score = metrics.accuracy_score(y_test, predictions)"
   ]
  },
  {
   "cell_type": "code",
   "execution_count": 4,
   "metadata": {
    "collapsed": false
   },
   "outputs": [
    {
     "name": "stdout",
     "output_type": "stream",
     "text": [
      "Sklearn Accuracy: 0.977778\n"
     ]
    }
   ],
   "source": [
    "print('Sklearn Accuracy: {0:f}'.format(score))"
   ]
  },
  {
   "cell_type": "code",
   "execution_count": null,
   "metadata": {
    "collapsed": false
   },
   "outputs": [],
   "source": [
    "# ------------------------------------------\n",
    "# TensorFlow Implementation\n",
    "# ------------------------------------------\n",
    "# Building a 3-layer DNN with 50 units each.\n",
    "feature_columns = tf.contrib.learn.infer_real_valued_columns_from_input(x_train)\n",
    "classifier_tf = tf.contrib.learn.DNNClassifier(feature_columns=feature_columns, \n",
    "                                               hidden_units=[50, 50, 50], \n",
    "                                               n_classes=3)\n",
    "classifier_tf.fit(x_train, y_train, steps=5000)\n",
    "predictions = list(classifier_tf.predict(x_test, as_iterable=True))\n",
    "score = metrics.accuracy_score(y_test, predictions)"
   ]
  },
  {
   "cell_type": "code",
   "execution_count": 6,
   "metadata": {
    "collapsed": false
   },
   "outputs": [
    {
     "name": "stdout",
     "output_type": "stream",
     "text": [
      "TensorFlow Accuracy: 0.977778\n"
     ]
    }
   ],
   "source": [
    "print('TensorFlow Accuracy: {0:f}'.format(score))"
   ]
  }
 ],
 "metadata": {
  "anaconda-cloud": {},
  "kernelspec": {
   "display_name": "Python [conda root]",
   "language": "python",
   "name": "conda-root-py"
  },
  "language_info": {
   "codemirror_mode": {
    "name": "ipython",
    "version": 3
   },
   "file_extension": ".py",
   "mimetype": "text/x-python",
   "name": "python",
   "nbconvert_exporter": "python",
   "pygments_lexer": "ipython3",
   "version": "3.5.3"
  }
 },
 "nbformat": 4,
 "nbformat_minor": 2
}

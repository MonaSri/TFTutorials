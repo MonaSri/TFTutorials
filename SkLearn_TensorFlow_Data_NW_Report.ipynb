{
 "cells": [
  {
   "cell_type": "code",
   "execution_count": 1,
   "metadata": {
    "collapsed": false
   },
   "outputs": [
    {
     "name": "stdout",
     "output_type": "stream",
     "text": [
      "TensorFlow version: 1.2.1\n",
      "Scikit-learn version: 0.18.2\n"
     ]
    }
   ],
   "source": [
    "# Let's establish our TensorFlow and Scikit-learn versions\n",
    "import tensorflow as tf\n",
    "import sklearn as sk\n",
    "print(\"TensorFlow version: %s\" % tf.__version__)\n",
    "print(\"Scikit-learn version: %s\" % sk.__version__)"
   ]
  },
  {
   "cell_type": "code",
   "execution_count": 2,
   "metadata": {
    "collapsed": false
   },
   "outputs": [
    {
     "name": "stdout",
     "output_type": "stream",
     "text": [
      "Number of instances in the dataset: 569\n"
     ]
    }
   ],
   "source": [
    "# Import dataset from Scikit-learn's datasets module\n",
    "# http://scikit-learn.org/stable/datasets/index.html\n",
    "from sklearn.datasets import load_breast_cancer\n",
    "cancer_data = load_breast_cancer()\n",
    "print(\"Number of instances in the dataset: %d\" % len(cancer_data.target))"
   ]
  },
  {
   "cell_type": "code",
   "execution_count": 3,
   "metadata": {
    "collapsed": false
   },
   "outputs": [],
   "source": [
    "# Split data into train and test data for classification\n",
    "# from sklearn.cross_validation import train_test_split # for sklearn < v0.18\n",
    "from sklearn.model_selection import train_test_split\n",
    "in_train, in_test, out_train, out_test = train_test_split(cancer_data['data'], \n",
    "                                                          cancer_data['target'])\n",
    "\n",
    "# Uncomment line below to see effects of using features without normalisation\n",
    "# \"\"\"\n",
    "from sklearn.preprocessing import StandardScaler\n",
    "data_scaler = StandardScaler()\n",
    "# Fit train data \n",
    "data_scaler.fit(in_train)\n",
    "\n",
    "in_train = data_scaler.transform(in_train)\n",
    "in_test =  data_scaler.transform(in_test)\n",
    "# Uncomment line below to see effects of using features without normalisation\n",
    "# \"\"\""
   ]
  },
  {
   "cell_type": "code",
   "execution_count": 4,
   "metadata": {
    "collapsed": false,
    "scrolled": true
   },
   "outputs": [
    {
     "name": "stdout",
     "output_type": "stream",
     "text": [
      "WARNING:tensorflow:float64 is not supported by many models, consider casting to float32.\n",
      "INFO:tensorflow:Using default config.\n",
      "WARNING:tensorflow:Using temporary folder as model directory: /var/folders/j5/y2jlvwvx20lf3pxm6nj6fg5r4qr_6g/T/tmp319e58z2\n",
      "INFO:tensorflow:Using config: {'_master': '', '_keep_checkpoint_max': 5, '_save_summary_steps': 100, '_model_dir': '/var/folders/j5/y2jlvwvx20lf3pxm6nj6fg5r4qr_6g/T/tmp319e58z2', '_save_checkpoints_secs': 600, '_environment': 'local', '_cluster_spec': <tensorflow.python.training.server_lib.ClusterSpec object at 0x1178aa358>, '_is_chief': True, '_tf_config': gpu_options {\n",
      "  per_process_gpu_memory_fraction: 1\n",
      "}\n",
      ", '_evaluation_master': '', '_tf_random_seed': None, '_task_id': 0, '_keep_checkpoint_every_n_hours': 10000, '_save_checkpoints_steps': None, '_num_ps_replicas': 0, '_num_worker_replicas': 0, '_task_type': None, '_session_config': None}\n",
      "WARNING:tensorflow:From <ipython-input-4-4916bd9c5ac2>:12: calling BaseEstimator.fit (from tensorflow.contrib.learn.python.learn.estimators.estimator) with x is deprecated and will be removed after 2016-12-01.\n",
      "Instructions for updating:\n",
      "Estimator is decoupled from Scikit Learn interface by moving into\n",
      "separate class SKCompat. Arguments x, y and batch_size are only\n",
      "available in the SKCompat class, Estimator will only accept input_fn.\n",
      "Example conversion:\n",
      "  est = Estimator(...) -> est = SKCompat(Estimator(...))\n",
      "WARNING:tensorflow:From <ipython-input-4-4916bd9c5ac2>:12: calling BaseEstimator.fit (from tensorflow.contrib.learn.python.learn.estimators.estimator) with y is deprecated and will be removed after 2016-12-01.\n",
      "Instructions for updating:\n",
      "Estimator is decoupled from Scikit Learn interface by moving into\n",
      "separate class SKCompat. Arguments x, y and batch_size are only\n",
      "available in the SKCompat class, Estimator will only accept input_fn.\n",
      "Example conversion:\n",
      "  est = Estimator(...) -> est = SKCompat(Estimator(...))\n",
      "WARNING:tensorflow:float64 is not supported by many models, consider casting to float32.\n",
      "WARNING:tensorflow:From /Users/i337036/anaconda/lib/python3.5/site-packages/tensorflow/contrib/learn/python/learn/estimators/head.py:625: scalar_summary (from tensorflow.python.ops.logging_ops) is deprecated and will be removed after 2016-11-30.\n",
      "Instructions for updating:\n",
      "Please switch to tf.summary.scalar. Note that tf.summary.scalar uses the node name instead of the tag. This means that TensorFlow will automatically de-duplicate summary names based on the scope they are created in. Also, passing a tensor or list of tags to a scalar summary op is no longer supported.\n",
      "WARNING:tensorflow:Casting <dtype: 'int64'> labels to bool.\n",
      "WARNING:tensorflow:Casting <dtype: 'int64'> labels to bool.\n",
      "INFO:tensorflow:Create CheckpointSaverHook.\n",
      "INFO:tensorflow:Saving checkpoints for 1 into /var/folders/j5/y2jlvwvx20lf3pxm6nj6fg5r4qr_6g/T/tmp319e58z2/model.ckpt.\n",
      "INFO:tensorflow:step = 1, loss = 0.8713\n",
      "INFO:tensorflow:global_step/sec: 547.328\n",
      "INFO:tensorflow:step = 101, loss = 0.0641335 (0.184 sec)\n",
      "INFO:tensorflow:global_step/sec: 589.654\n",
      "INFO:tensorflow:step = 201, loss = 0.040957 (0.170 sec)\n",
      "INFO:tensorflow:global_step/sec: 554.991\n",
      "INFO:tensorflow:step = 301, loss = 0.0283505 (0.181 sec)\n",
      "INFO:tensorflow:global_step/sec: 557.865\n",
      "INFO:tensorflow:step = 401, loss = 0.0201198 (0.179 sec)\n",
      "INFO:tensorflow:Saving checkpoints for 500 into /var/folders/j5/y2jlvwvx20lf3pxm6nj6fg5r4qr_6g/T/tmp319e58z2/model.ckpt.\n",
      "INFO:tensorflow:Loss for final step: 0.0142775.\n",
      "WARNING:tensorflow:From /Users/i337036/anaconda/lib/python3.5/site-packages/tensorflow/contrib/learn/python/learn/estimators/dnn.py:433: calling BaseEstimator.predict (from tensorflow.contrib.learn.python.learn.estimators.estimator) with x is deprecated and will be removed after 2016-12-01.\n",
      "Instructions for updating:\n",
      "Estimator is decoupled from Scikit Learn interface by moving into\n",
      "separate class SKCompat. Arguments x, y and batch_size are only\n",
      "available in the SKCompat class, Estimator will only accept input_fn.\n",
      "Example conversion:\n",
      "  est = Estimator(...) -> est = SKCompat(Estimator(...))\n",
      "WARNING:tensorflow:float64 is not supported by many models, consider casting to float32.\n",
      "INFO:tensorflow:Restoring parameters from /var/folders/j5/y2jlvwvx20lf3pxm6nj6fg5r4qr_6g/T/tmp319e58z2/model.ckpt-500\n"
     ]
    }
   ],
   "source": [
    "from sklearn import metrics\n",
    "import tensorflow as tf\n",
    "# ------------------------------------------\n",
    "# TensorFlow Implementation\n",
    "# ------------------------------------------\n",
    "# Building a 3-layer DNN with x units each.\n",
    "units = 10  # Increase this to see if performance goes down\n",
    "feature_columns = tf.contrib.learn.infer_real_valued_columns_from_input(in_train)\n",
    "classifier_tf = tf.contrib.learn.DNNClassifier(feature_columns=feature_columns, \n",
    "                                               hidden_units=[units, units, units], \n",
    "                                               n_classes=2)\n",
    "classifier_tf.fit(in_train, out_train, steps=500)\n",
    "predictions = list(classifier_tf.predict_classes(in_test, as_iterable=True))"
   ]
  },
  {
   "cell_type": "code",
   "execution_count": 5,
   "metadata": {
    "collapsed": false
   },
   "outputs": [
    {
     "name": "stdout",
     "output_type": "stream",
     "text": [
      "Prediction Accuracy: 0.965035\n"
     ]
    }
   ],
   "source": [
    "# Evaluate the prediction accuracy\n",
    "score = metrics.accuracy_score(out_test, predictions)\n",
    "print('Prediction Accuracy: {0:f}'.format(score))"
   ]
  },
  {
   "cell_type": "code",
   "execution_count": 6,
   "metadata": {
    "collapsed": false,
    "scrolled": true
   },
   "outputs": [
    {
     "name": "stdout",
     "output_type": "stream",
     "text": [
      "             precision    recall  f1-score   support\n",
      "\n",
      "  malignant       0.96      0.93      0.95        46\n",
      "     benign       0.97      0.98      0.97        97\n",
      "\n",
      "avg / total       0.96      0.97      0.96       143\n",
      "\n"
     ]
    }
   ],
   "source": [
    "report = metrics.classification_report(out_test, predictions, \n",
    "                                       target_names=cancer_data.target_names)\n",
    "print(report)"
   ]
  },
  {
   "cell_type": "code",
   "execution_count": 7,
   "metadata": {
    "collapsed": false
   },
   "outputs": [],
   "source": [
    "import matplotlib.pyplot as plt\n",
    "import numpy as np\n",
    "import itertools\n",
    "# Method source: http://scikit-learn.org/stable/auto_examples/model_selection/plot_confusion_matrix.html#sphx-glr-auto-examples-model-selection-plot-confusion-matrix-py\n",
    "def plot_confusion_matrix(cm, classes,\n",
    "                          normalize=False,\n",
    "                          title='Confusion matrix',\n",
    "                          cmap=plt.cm.Blues):\n",
    "    \"\"\"\n",
    "    This function prints and plots the confusion matrix.\n",
    "    Normalization can be applied by setting `normalize=True`.\n",
    "    \"\"\"\n",
    "    plt.imshow(cm, interpolation='nearest', cmap=cmap)\n",
    "    plt.title(title)\n",
    "    plt.colorbar()\n",
    "    tick_marks = np.arange(len(classes))\n",
    "    plt.xticks(tick_marks, classes, rotation=45)\n",
    "    plt.yticks(tick_marks, classes)\n",
    "\n",
    "    if normalize:\n",
    "        cm = cm.astype('float') / cm.sum(axis=1)[:, np.newaxis]\n",
    "        print(\"Normalized confusion matrix\")\n",
    "    else:\n",
    "        print('Confusion matrix, without normalization')\n",
    "\n",
    "    print(cm)\n",
    "\n",
    "    thresh = cm.max() / 2.\n",
    "    for i, j in itertools.product(range(cm.shape[0]), range(cm.shape[1])):\n",
    "        plt.text(j, i, cm[i, j],\n",
    "                 horizontalalignment=\"center\",\n",
    "                 color=\"white\" if cm[i, j] > thresh else \"black\")\n",
    "\n",
    "    plt.tight_layout()\n",
    "    plt.ylabel('True label')\n",
    "    plt.xlabel('Predicted label')"
   ]
  },
  {
   "cell_type": "code",
   "execution_count": 8,
   "metadata": {
    "collapsed": false,
    "scrolled": false
   },
   "outputs": [
    {
     "name": "stdout",
     "output_type": "stream",
     "text": [
      "Confusion matrix, without normalization\n",
      "[[43  3]\n",
      " [ 2 95]]\n"
     ]
    },
    {
     "data": {
      "image/png": "[encoded data removed]",
      "text/plain": [
       "<matplotlib.figure.Figure at 0x117eeab70>"
      ]
     },
     "metadata": {},
     "output_type": "display_data"
    }
   ],
   "source": [
    "# Plotting the confusion matrix using matplotlib\n",
    "%matplotlib inline\n",
    "confusion = metrics.confusion_matrix(out_test, predictions)\n",
    "\n",
    "# Plot non-normalized confusion matrix\n",
    "plt.figure()\n",
    "plot_confusion_matrix(confusion, classes=cancer_data.target_names,\n",
    "                      title='Confusion matrix, without normalization')"
   ]
  },
  {
   "cell_type": "code",
   "execution_count": 9,
   "metadata": {
    "collapsed": false
   },
   "outputs": [
    {
     "name": "stdout",
     "output_type": "stream",
     "text": [
      "Normalized confusion matrix\n",
      "[[ 0.93478261  0.06521739]\n",
      " [ 0.02061856  0.97938144]]\n"
     ]
    },
    {
     "data": {
      "image/png": "[encoded data removed]",
      "text/plain": [
       "<matplotlib.figure.Figure at 0x11819eb70>"
      ]
     },
     "metadata": {},
     "output_type": "display_data"
    }
   ],
   "source": [
    "# Plot normalized confusion matrix\n",
    "plt.figure()\n",
    "plot_confusion_matrix(confusion, classes=cancer_data.target_names, normalize=True,\n",
    "                      title='Normalized confusion matrix')\n",
    "\n",
    "plt.show()"
   ]
  }
 ],
 "metadata": {
  "anaconda-cloud": {},
  "kernelspec": {
   "display_name": "Python [conda root]",
   "language": "python",
   "name": "conda-root-py"
  },
  "language_info": {
   "codemirror_mode": {
    "name": "ipython",
    "version": 3
   },
   "file_extension": ".py",
   "mimetype": "text/x-python",
   "name": "python",
   "nbconvert_exporter": "python",
   "pygments_lexer": "ipython3",
   "version": "3.5.3"
  }
 },
 "nbformat": 4,
 "nbformat_minor": 2
}
